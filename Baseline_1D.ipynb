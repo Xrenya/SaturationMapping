{
  "nbformat": 4,
  "nbformat_minor": 0,
  "metadata": {
    "colab": {
      "name": "Baseline_1D.ipynb",
      "provenance": [],
      "collapsed_sections": [],
      "mount_file_id": "1rB2nTa8_qTRTW-3GVVTOG09jnh9tSm3Z",
      "authorship_tag": "ABX9TyMQKtQSmhnMylF+miEQoWnC",
      "include_colab_link": true
    },
    "kernelspec": {
      "name": "python3",
      "display_name": "Python 3"
    }
  },
  "cells": [
    {
      "cell_type": "markdown",
      "metadata": {
        "id": "view-in-github",
        "colab_type": "text"
      },
      "source": [
        "<a href=\"https://colab.research.google.com/github/Xrenya/SaturationMapping/blob/main/Baseline_1D.ipynb\" target=\"_parent\"><img src=\"https://colab.research.google.com/assets/colab-badge.svg\" alt=\"Open In Colab\"/></a>"
      ]
    },
    {
      "cell_type": "code",
      "metadata": {
        "id": "vccwgoHXFdxM"
      },
      "source": [
        "import numpy as np\n",
        "import pandas as pd\n",
        "\n",
        "from sklearn.model_selection import train_test_split, GridSearchCV\n",
        "from sklearn.ensemble import RandomForestRegressor\n",
        "from sklearn.neighbors import KNeighborsRegressor\n",
        "from sklearn.metrics import mean_squared_error\n",
        "from sklearn.pipeline import Pipeline\n",
        "from sklearn.preprocessing import StandardScaler\n",
        "\n",
        "import matplotlib.pyplot as plt\n",
        "import seaborn as sns\n",
        "\n",
        "RANDOM_STATE = 66"
      ],
      "execution_count": 1,
      "outputs": []
    },
    {
      "cell_type": "code",
      "metadata": {
        "id": "QErhGXf8JBvq"
      },
      "source": [
        "files = {\"porosity\": \"/content/por.txt\", \n",
        "         \"resistivity\": \"/content/res.txt\",\n",
        "         \"saturation\": \"/content/swat.txt\"}\n",
        "data_dict = {}\n",
        "for file in files:\n",
        "  with open(files[file], \"r\") as f:\n",
        "    data_dict[file] = f.read().splitlines()"
      ],
      "execution_count": 2,
      "outputs": []
    },
    {
      "cell_type": "code",
      "metadata": {
        "id": "jeGJAx8nIcm5"
      },
      "source": [
        "df = pd.DataFrame(data_dict)\n",
        "df.sample(5)\n",
        "df[\"porosity\"] = pd.to_numeric(df[\"porosity\"], errors=\"coerce\")\n",
        "df[\"resistivity\"] = pd.to_numeric(df[\"resistivity\"], errors=\"coerce\")\n",
        "df[\"saturation\"] = pd.to_numeric(df[\"saturation\"], errors=\"coerce\")"
      ],
      "execution_count": 3,
      "outputs": []
    },
    {
      "cell_type": "code",
      "metadata": {
        "id": "vNIbnEexLQ37",
        "outputId": "8b3e491b-2a54-4087-a42d-e6640fdcce44",
        "colab": {
          "base_uri": "https://localhost:8080/"
        }
      },
      "source": [
        "X = df.drop(columns=[\"saturation\"])\n",
        "y = df[\"saturation\"]\n",
        "print(X.shape, y.shape)\n",
        "X_train, X_val, y_train, y_val = train_test_split(X, y, \n",
        "                                                  test_size=0.2,\n",
        "                                                  random_state=RANDOM_STATE)"
      ],
      "execution_count": 4,
      "outputs": [
        {
          "output_type": "stream",
          "text": [
            "(180000, 2) (180000,)\n"
          ],
          "name": "stdout"
        }
      ]
    },
    {
      "cell_type": "code",
      "metadata": {
        "id": "4EZlTP4EMxL1"
      },
      "source": [
        "def model_pipeline(model, X_train, y_train, X_val, y_val):\n",
        "  pipeline = Pipeline([\n",
        "                     (\"scaler\", StandardScaler()),\n",
        "                     (\"model\", model)\n",
        "  ])\n",
        "  pipeline.fit(X_train, y_train)\n",
        "  preds = pipeline.predict(X_val)\n",
        "  model_score = mean_squared_error(y_val, preds)\n",
        "  return model_score"
      ],
      "execution_count": null,
      "outputs": []
    },
    {
      "cell_type": "code",
      "metadata": {
        "id": "2hxf3BadMeM2"
      },
      "source": [
        "KNN = KNeighborsRegressor(\n",
        "    n_neighbors=5, \n",
        "    weights=\"uniform\",\n",
        "    algorithm=\"auto\",\n",
        ")"
      ],
      "execution_count": null,
      "outputs": []
    },
    {
      "cell_type": "code",
      "metadata": {
        "id": "ApF51CVNQE2z",
        "outputId": "bc952f96-4f4c-4883-ca7e-b5c318379a18",
        "colab": {
          "base_uri": "https://localhost:8080/"
        }
      },
      "source": [
        "model_pipeline(KNN, X_train, y_train, X_val, y_val)"
      ],
      "execution_count": null,
      "outputs": [
        {
          "output_type": "execute_result",
          "data": {
            "text/plain": [
              "0.05850681338900937"
            ]
          },
          "metadata": {
            "tags": []
          },
          "execution_count": 7
        }
      ]
    },
    {
      "cell_type": "code",
      "metadata": {
        "id": "rY6T3A8aSf1e",
        "outputId": "e23a4622-b827-44ab-89f2-faeca0c2e48c",
        "colab": {
          "base_uri": "https://localhost:8080/"
        }
      },
      "source": [
        "rf = RandomForestRegressor(n_estimators=100,\n",
        "                           criterion='mse',\n",
        "                           random_state=RANDOM_STATE)\n",
        "\n",
        "model_pipeline(rf, X_train, y_train, X_val, y_val)"
      ],
      "execution_count": null,
      "outputs": [
        {
          "output_type": "execute_result",
          "data": {
            "text/plain": [
              "0.015908294510223867"
            ]
          },
          "metadata": {
            "tags": []
          },
          "execution_count": 74
        }
      ]
    },
    {
      "cell_type": "code",
      "metadata": {
        "id": "RrXcMUvVPpRF"
      },
      "source": [
        "def model_pipeline(model, X_train, y_train, X_val, y_val):\n",
        "  pipeline = Pipeline([\n",
        "                     (\"scaler\", StandardScaler()),\n",
        "                     (\"model\", model)\n",
        "  ])\n",
        "  pipeline.fit(X_train, y_train)\n",
        "  preds = pipeline.predict(X_val)\n",
        "  model_score = mean_squared_error(y_val, preds)\n",
        "  return model_score"
      ],
      "execution_count": null,
      "outputs": []
    },
    {
      "cell_type": "code",
      "metadata": {
        "id": "4vqz1EZqPr8v",
        "outputId": "e78399dc-df08-447c-c22f-f29d35219c1c",
        "colab": {
          "base_uri": "https://localhost:8080/"
        }
      },
      "source": [
        "rf = RandomForestRegressor(n_estimators=100,\n",
        "                           criterion='mse',\n",
        "                           max_features = 'auto',\n",
        "                           min_samples_split=3,\n",
        "                           bootstrap=True,\n",
        "                           random_state=RANDOM_STATE)\n",
        "\n",
        "model_pipeline(rf, X_train, y_train, X_val, y_val)"
      ],
      "execution_count": null,
      "outputs": [
        {
          "output_type": "execute_result",
          "data": {
            "text/plain": [
              "0.016067949367058375"
            ]
          },
          "metadata": {
            "tags": []
          },
          "execution_count": 17
        }
      ]
    },
    {
      "cell_type": "code",
      "metadata": {
        "id": "qLVLAebGN3Sx",
        "outputId": "fab812ef-c1e4-4132-bc16-508a70a09aa0",
        "colab": {
          "base_uri": "https://localhost:8080/"
        }
      },
      "source": [
        "rf = RandomForestRegressor(n_estimators=1000,\n",
        "                           criterion='mse',\n",
        "                           random_state=RANDOM_STATE)\n",
        "\n",
        "model_pipeline(rf, X_train, y_train, X_val, y_val)"
      ],
      "execution_count": null,
      "outputs": [
        {
          "output_type": "execute_result",
          "data": {
            "text/plain": [
              "0.01569666275706869"
            ]
          },
          "metadata": {
            "tags": []
          },
          "execution_count": 8
        }
      ]
    },
    {
      "cell_type": "code",
      "metadata": {
        "id": "lEuhFyHD5axW",
        "outputId": "7dc91183-9912-4156-a2ed-0ab49096c9e2",
        "colab": {
          "base_uri": "https://localhost:8080/"
        }
      },
      "source": [
        "from sklearn.model_selection import RandomizedSearchCV\n",
        "n_estimators = [50, 100, 200, 300, 1000]\n",
        "max_features = ['auto', 'sqrt']\n",
        "max_depth = [2, 4, 6]\n",
        "max_depth.append(None)\n",
        "min_samples_split = [2, 4, 6]\n",
        "min_samples_leaf = [2, 4, 6]\n",
        "bootstrap = [True, False]\n",
        "random_grid = {'n_estimators': n_estimators,\n",
        "               'max_features': max_features,\n",
        "               'max_depth': max_depth,\n",
        "               'min_samples_split': min_samples_split,\n",
        "               'min_samples_leaf': min_samples_leaf,\n",
        "               'bootstrap': bootstrap}\n",
        "print(random_grid)\n",
        "\n",
        "rf = RandomForestRegressor()\n",
        "rf_random = RandomizedSearchCV(estimator=rf, \n",
        "                               param_distributions=random_grid, \n",
        "                               n_iter=50, \n",
        "                               cv=5,\n",
        "                               verbose=2,\n",
        "                               random_state=RANDOM_STATE,\n",
        "                               n_jobs = -1)"
      ],
      "execution_count": 10,
      "outputs": [
        {
          "output_type": "stream",
          "text": [
            "{'n_estimators': [50, 100, 200, 300, 1000], 'max_features': ['auto', 'sqrt'], 'max_depth': [2, 4, 6, None], 'min_samples_split': [2, 4, 6], 'min_samples_leaf': [2, 4, 6], 'bootstrap': [True, False]}\n"
          ],
          "name": "stdout"
        }
      ]
    },
    {
      "cell_type": "code",
      "metadata": {
        "id": "Lmwr5txRddd_"
      },
      "source": [
        "def model_pipeline_rf(model, X_train, y_train, X_val, y_val):\n",
        "  pipeline = Pipeline([\n",
        "                     (\"scaler\", StandardScaler()),\n",
        "                     (\"model\", model)\n",
        "  ])\n",
        "  pipeline.fit(X_train, y_train)\n",
        "  print(model.best_params_)\n",
        "  best_random = model.best_estimator_\n",
        "  preds = best_random.predict(X_val)\n",
        "  model_score = mean_squared_error(y_val, preds)\n",
        "  return model_score"
      ],
      "execution_count": 11,
      "outputs": []
    },
    {
      "cell_type": "code",
      "metadata": {
        "id": "mJqAFttSeYdj",
        "outputId": "9da1a537-5fec-43b8-fa92-6c579353f7d5",
        "colab": {
          "base_uri": "https://localhost:8080/"
        }
      },
      "source": [
        "model_pipeline_rf(rf_random, X_train, y_train, X_val, y_val)"
      ],
      "execution_count": 12,
      "outputs": [
        {
          "output_type": "stream",
          "text": [
            "Fitting 5 folds for each of 50 candidates, totalling 250 fits\n"
          ],
          "name": "stdout"
        },
        {
          "output_type": "stream",
          "text": [
            "[Parallel(n_jobs=-1)]: Using backend LokyBackend with 2 concurrent workers.\n",
            "[Parallel(n_jobs=-1)]: Done  37 tasks      | elapsed: 14.1min\n",
            "/usr/local/lib/python3.6/dist-packages/joblib/externals/loky/process_executor.py:691: UserWarning: A worker stopped while some jobs were given to the executor. This can be caused by a too short worker timeout or by a memory leak.\n",
            "  \"timeout or by a memory leak.\", UserWarning\n",
            "[Parallel(n_jobs=-1)]: Done 158 tasks      | elapsed: 73.1min\n",
            "[Parallel(n_jobs=-1)]: Done 250 out of 250 | elapsed: 130.4min finished\n"
          ],
          "name": "stderr"
        },
        {
          "output_type": "stream",
          "text": [
            "{'n_estimators': 100, 'min_samples_split': 2, 'min_samples_leaf': 2, 'max_features': 'auto', 'max_depth': None, 'bootstrap': True}\n"
          ],
          "name": "stdout"
        },
        {
          "output_type": "execute_result",
          "data": {
            "text/plain": [
              "0.12972336352496333"
            ]
          },
          "metadata": {
            "tags": []
          },
          "execution_count": 12
        }
      ]
    },
    {
      "cell_type": "code",
      "metadata": {
        "id": "wM1_eBGNecwC",
        "outputId": "76629d9e-9bb5-4886-8448-5e0eb64ed8cd",
        "colab": {
          "base_uri": "https://localhost:8080/"
        }
      },
      "source": [
        "#!pip install catboost\n",
        "from catboost import CatBoostRegressor\n",
        "\n",
        "model = CatBoostRegressor(iterations=100,\n",
        "                          learning_rate=0.1,\n",
        "                          depth=9)\n",
        "\n",
        "model.fit(X_train, y_train)\n",
        "\n",
        "preds = model.predict(X_val)\n",
        "\n",
        "score = mean_squared_error(y_val, preds)\n",
        "print(score)"
      ],
      "execution_count": null,
      "outputs": [
        {
          "output_type": "stream",
          "text": [
            "0:\tlearn: 0.2881066\ttotal: 25.7ms\tremaining: 2.55s\n",
            "1:\tlearn: 0.2845907\ttotal: 49.2ms\tremaining: 2.41s\n",
            "2:\tlearn: 0.2815621\ttotal: 74.2ms\tremaining: 2.4s\n",
            "3:\tlearn: 0.2791340\ttotal: 98.2ms\tremaining: 2.36s\n",
            "4:\tlearn: 0.2770590\ttotal: 122ms\tremaining: 2.31s\n",
            "5:\tlearn: 0.2753956\ttotal: 146ms\tremaining: 2.29s\n",
            "6:\tlearn: 0.2739544\ttotal: 171ms\tremaining: 2.27s\n",
            "7:\tlearn: 0.2728017\ttotal: 195ms\tremaining: 2.25s\n",
            "8:\tlearn: 0.2718405\ttotal: 220ms\tremaining: 2.22s\n",
            "9:\tlearn: 0.2710545\ttotal: 249ms\tremaining: 2.24s\n",
            "10:\tlearn: 0.2703740\ttotal: 282ms\tremaining: 2.29s\n",
            "11:\tlearn: 0.2697642\ttotal: 307ms\tremaining: 2.25s\n",
            "12:\tlearn: 0.2692276\ttotal: 332ms\tremaining: 2.22s\n",
            "13:\tlearn: 0.2687868\ttotal: 356ms\tremaining: 2.19s\n",
            "14:\tlearn: 0.2684080\ttotal: 380ms\tremaining: 2.15s\n",
            "15:\tlearn: 0.2681155\ttotal: 403ms\tremaining: 2.12s\n",
            "16:\tlearn: 0.2678314\ttotal: 426ms\tremaining: 2.08s\n",
            "17:\tlearn: 0.2675723\ttotal: 453ms\tremaining: 2.06s\n",
            "18:\tlearn: 0.2673122\ttotal: 477ms\tremaining: 2.03s\n",
            "19:\tlearn: 0.2670659\ttotal: 500ms\tremaining: 2s\n",
            "20:\tlearn: 0.2668641\ttotal: 523ms\tremaining: 1.97s\n",
            "21:\tlearn: 0.2667046\ttotal: 547ms\tremaining: 1.94s\n",
            "22:\tlearn: 0.2665136\ttotal: 570ms\tremaining: 1.91s\n",
            "23:\tlearn: 0.2663924\ttotal: 594ms\tremaining: 1.88s\n",
            "24:\tlearn: 0.2662515\ttotal: 617ms\tremaining: 1.85s\n",
            "25:\tlearn: 0.2661511\ttotal: 639ms\tremaining: 1.82s\n",
            "26:\tlearn: 0.2659793\ttotal: 665ms\tremaining: 1.8s\n",
            "27:\tlearn: 0.2658807\ttotal: 690ms\tremaining: 1.77s\n",
            "28:\tlearn: 0.2657774\ttotal: 714ms\tremaining: 1.75s\n",
            "29:\tlearn: 0.2656509\ttotal: 737ms\tremaining: 1.72s\n",
            "30:\tlearn: 0.2655192\ttotal: 760ms\tremaining: 1.69s\n",
            "31:\tlearn: 0.2654290\ttotal: 783ms\tremaining: 1.66s\n",
            "32:\tlearn: 0.2653389\ttotal: 806ms\tremaining: 1.64s\n",
            "33:\tlearn: 0.2652473\ttotal: 829ms\tremaining: 1.61s\n",
            "34:\tlearn: 0.2651578\ttotal: 852ms\tremaining: 1.58s\n",
            "35:\tlearn: 0.2650220\ttotal: 879ms\tremaining: 1.56s\n",
            "36:\tlearn: 0.2649405\ttotal: 912ms\tremaining: 1.55s\n",
            "37:\tlearn: 0.2648554\ttotal: 938ms\tremaining: 1.53s\n",
            "38:\tlearn: 0.2647836\ttotal: 963ms\tremaining: 1.51s\n",
            "39:\tlearn: 0.2647148\ttotal: 987ms\tremaining: 1.48s\n",
            "40:\tlearn: 0.2646453\ttotal: 1.01s\tremaining: 1.45s\n",
            "41:\tlearn: 0.2645767\ttotal: 1.03s\tremaining: 1.43s\n",
            "42:\tlearn: 0.2645401\ttotal: 1.06s\tremaining: 1.4s\n",
            "43:\tlearn: 0.2644537\ttotal: 1.08s\tremaining: 1.38s\n",
            "44:\tlearn: 0.2643616\ttotal: 1.11s\tremaining: 1.35s\n",
            "45:\tlearn: 0.2643077\ttotal: 1.13s\tremaining: 1.33s\n",
            "46:\tlearn: 0.2642402\ttotal: 1.16s\tremaining: 1.31s\n",
            "47:\tlearn: 0.2641811\ttotal: 1.18s\tremaining: 1.28s\n",
            "48:\tlearn: 0.2641165\ttotal: 1.21s\tremaining: 1.26s\n",
            "49:\tlearn: 0.2640389\ttotal: 1.23s\tremaining: 1.23s\n",
            "50:\tlearn: 0.2639633\ttotal: 1.26s\tremaining: 1.21s\n",
            "51:\tlearn: 0.2638980\ttotal: 1.29s\tremaining: 1.2s\n",
            "52:\tlearn: 0.2638060\ttotal: 1.32s\tremaining: 1.17s\n",
            "53:\tlearn: 0.2637216\ttotal: 1.34s\tremaining: 1.14s\n",
            "54:\tlearn: 0.2636694\ttotal: 1.36s\tremaining: 1.12s\n",
            "55:\tlearn: 0.2635980\ttotal: 1.39s\tremaining: 1.09s\n",
            "56:\tlearn: 0.2635394\ttotal: 1.42s\tremaining: 1.07s\n",
            "57:\tlearn: 0.2634831\ttotal: 1.44s\tremaining: 1.04s\n",
            "58:\tlearn: 0.2634272\ttotal: 1.47s\tremaining: 1.02s\n",
            "59:\tlearn: 0.2633598\ttotal: 1.49s\tremaining: 994ms\n",
            "60:\tlearn: 0.2633057\ttotal: 1.52s\tremaining: 970ms\n",
            "61:\tlearn: 0.2632463\ttotal: 1.54s\tremaining: 945ms\n",
            "62:\tlearn: 0.2631748\ttotal: 1.56s\tremaining: 919ms\n",
            "63:\tlearn: 0.2631007\ttotal: 1.59s\tremaining: 893ms\n",
            "64:\tlearn: 0.2630451\ttotal: 1.62s\tremaining: 871ms\n",
            "65:\tlearn: 0.2629881\ttotal: 1.64s\tremaining: 844ms\n",
            "66:\tlearn: 0.2629525\ttotal: 1.66s\tremaining: 819ms\n",
            "67:\tlearn: 0.2629015\ttotal: 1.69s\tremaining: 794ms\n",
            "68:\tlearn: 0.2628203\ttotal: 1.71s\tremaining: 769ms\n",
            "69:\tlearn: 0.2627630\ttotal: 1.74s\tremaining: 746ms\n",
            "70:\tlearn: 0.2626905\ttotal: 1.77s\tremaining: 721ms\n",
            "71:\tlearn: 0.2626239\ttotal: 1.79s\tremaining: 696ms\n",
            "72:\tlearn: 0.2625618\ttotal: 1.81s\tremaining: 671ms\n",
            "73:\tlearn: 0.2625145\ttotal: 1.84s\tremaining: 645ms\n",
            "74:\tlearn: 0.2624433\ttotal: 1.86s\tremaining: 620ms\n",
            "75:\tlearn: 0.2623859\ttotal: 1.88s\tremaining: 595ms\n",
            "76:\tlearn: 0.2623346\ttotal: 1.91s\tremaining: 569ms\n",
            "77:\tlearn: 0.2622730\ttotal: 1.93s\tremaining: 544ms\n",
            "78:\tlearn: 0.2621982\ttotal: 1.96s\tremaining: 521ms\n",
            "79:\tlearn: 0.2621554\ttotal: 1.98s\tremaining: 495ms\n",
            "80:\tlearn: 0.2621090\ttotal: 2s\tremaining: 471ms\n",
            "81:\tlearn: 0.2620477\ttotal: 2.03s\tremaining: 446ms\n",
            "82:\tlearn: 0.2619582\ttotal: 2.05s\tremaining: 421ms\n",
            "83:\tlearn: 0.2619214\ttotal: 2.08s\tremaining: 396ms\n",
            "84:\tlearn: 0.2618798\ttotal: 2.1s\tremaining: 371ms\n",
            "85:\tlearn: 0.2618304\ttotal: 2.12s\tremaining: 346ms\n",
            "86:\tlearn: 0.2617913\ttotal: 2.14s\tremaining: 320ms\n",
            "87:\tlearn: 0.2617423\ttotal: 2.17s\tremaining: 296ms\n",
            "88:\tlearn: 0.2616749\ttotal: 2.2s\tremaining: 272ms\n",
            "89:\tlearn: 0.2616190\ttotal: 2.23s\tremaining: 248ms\n",
            "90:\tlearn: 0.2615621\ttotal: 2.25s\tremaining: 223ms\n",
            "91:\tlearn: 0.2615096\ttotal: 2.29s\tremaining: 199ms\n",
            "92:\tlearn: 0.2614515\ttotal: 2.31s\tremaining: 174ms\n",
            "93:\tlearn: 0.2614098\ttotal: 2.33s\tremaining: 149ms\n",
            "94:\tlearn: 0.2613685\ttotal: 2.36s\tremaining: 124ms\n",
            "95:\tlearn: 0.2613208\ttotal: 2.39s\tremaining: 99.5ms\n",
            "96:\tlearn: 0.2612756\ttotal: 2.41s\tremaining: 74.6ms\n",
            "97:\tlearn: 0.2612107\ttotal: 2.44s\tremaining: 49.7ms\n",
            "98:\tlearn: 0.2611621\ttotal: 2.46s\tremaining: 24.9ms\n",
            "99:\tlearn: 0.2610892\ttotal: 2.48s\tremaining: 0us\n",
            "0.06827295498106294\n"
          ],
          "name": "stdout"
        }
      ]
    },
    {
      "cell_type": "code",
      "metadata": {
        "id": "EzoJoedLkMeO",
        "outputId": "c6806ef6-f063-4f99-8713-1363eca5e4e9",
        "colab": {
          "base_uri": "https://localhost:8080/"
        }
      },
      "source": [
        "import xgboost as xgb\n",
        "\n",
        "model = xgb.XGBRegressor(objective=\"reg:squarederror\",\n",
        "                         colsample_bytree=0.5,\n",
        "                         learning_rate=0.2,\n",
        "                         max_depth=30,\n",
        "                         alpha=10,\n",
        "                         n_estimators=300)\n",
        "\n",
        "model.fit(X_train, y_train)\n",
        "\n",
        "preds = model.predict(X_val)\n",
        "\n",
        "score = mean_squared_error(y_val, preds)\n",
        "print(score)"
      ],
      "execution_count": null,
      "outputs": [
        {
          "output_type": "stream",
          "text": [
            "0.021484273822412397\n"
          ],
          "name": "stdout"
        }
      ]
    },
    {
      "cell_type": "code",
      "metadata": {
        "id": "vSvevBsHq4PF",
        "outputId": "743836dc-d9cd-40be-f7ed-0fcde49fe602",
        "colab": {
          "base_uri": "https://localhost:8080/"
        }
      },
      "source": [
        "import lightgbm as lgb\n",
        "\n",
        "params = {\n",
        "    \"boositing_type\": \"gbdt\",\n",
        "    \"objective\": \"regression\",\n",
        "    \"metrics\": \"mse\",\n",
        "    \"max_depth\": 12,\n",
        "    \"learning_rate\": 0.01,\n",
        "    \"early_stoping_round\": 40\n",
        "}\n",
        "n_estimators = 100\n",
        "\n",
        "d_train = lgb.Dataset(X_train, label=y_train)\n",
        "\n",
        "model = lgb.train(params, \n",
        "                  d_train,\n",
        "                  n_estimators,\n",
        "                  verbose_eval=1)\n",
        "\n",
        "preds = model.predict(X_val)\n",
        "\n",
        "score = mean_squared_error(y_val, preds)\n",
        "print(score)"
      ],
      "execution_count": null,
      "outputs": [
        {
          "output_type": "stream",
          "text": [
            "0.06540129321137311\n"
          ],
          "name": "stdout"
        }
      ]
    },
    {
      "cell_type": "code",
      "metadata": {
        "id": "vINgwcxgyjL4"
      },
      "source": [
        ""
      ],
      "execution_count": null,
      "outputs": []
    }
  ]
}